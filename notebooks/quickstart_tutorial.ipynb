{
 "cells": [
  {
   "cell_type": "code",
   "execution_count": 1,
   "metadata": {},
   "outputs": [],
   "source": [
    "%matplotlib inline"
   ]
  },
  {
   "cell_type": "markdown",
   "metadata": {},
   "source": [
    "\n",
    "`Learn the Basics <intro.html>`_ ||\n",
    "**Quickstart** ||\n",
    "`Tensors <tensorqs_tutorial.html>`_ ||\n",
    "`Datasets & DataLoaders <data_tutorial.html>`_ ||\n",
    "`Transforms <transforms_tutorial.html>`_ ||\n",
    "`Build Model <buildmodel_tutorial.html>`_ ||\n",
    "`Autograd <autogradqs_tutorial.html>`_ ||\n",
    "`Optimization <optimization_tutorial.html>`_ ||\n",
    "`Save & Load Model <saveloadrun_tutorial.html>`_\n",
    "\n",
    "Quickstart\n",
    "===================\n",
    "This section runs through the API for common tasks in machine learning. Refer to the links in each section to dive deeper.\n",
    "\n",
    "Working with data\n",
    "-----------------\n",
    "PyTorch has two `primitives to work with data <https://pytorch.org/docs/stable/data.html>`_:\n",
    "``torch.utils.data.DataLoader`` and ``torch.utils.data.Dataset``.\n",
    "``Dataset`` stores the samples and their corresponding labels, and ``DataLoader`` wraps an iterable around\n",
    "the ``Dataset``.\n"
   ]
  },
  {
   "cell_type": "code",
   "execution_count": 8,
   "metadata": {},
   "outputs": [],
   "source": [
    "import torch\n",
    "from torch import nn\n",
    "from torch.utils.data import DataLoader\n",
    "from torchvision import datasets\n",
    "from torchvision.transforms import ToTensor"
   ]
  },
  {
   "cell_type": "markdown",
   "metadata": {},
   "source": [
    "PyTorch offers domain-specific libraries such as `TorchText <https://pytorch.org/text/stable/index.html>`_,\n",
    "`TorchVision <https://pytorch.org/vision/stable/index.html>`_, and `TorchAudio <https://pytorch.org/audio/stable/index.html>`_,\n",
    "all of which include datasets. For this tutorial, we  will be using a TorchVision dataset.\n",
    "\n",
    "The ``torchvision.datasets`` module contains ``Dataset`` objects for many real-world vision data like\n",
    "CIFAR, COCO (`full list here <https://pytorch.org/vision/stable/datasets.html>`_). In this tutorial, we\n",
    "use the FashionMNIST dataset. Every TorchVision ``Dataset`` includes two arguments: ``transform`` and\n",
    "``target_transform`` to modify the samples and labels respectively.\n",
    "\n"
   ]
  },
  {
   "cell_type": "code",
   "execution_count": 9,
   "metadata": {},
   "outputs": [],
   "source": [
    "# Download training data from open datasets.\n",
    "training_data = datasets.FashionMNIST(\n",
    "    root=\"./project/data\",\n",
    "    train=True,\n",
    "    download=True,\n",
    "    transform=ToTensor(),\n",
    ")\n",
    "\n",
    "# Download test data from open datasets.\n",
    "test_data = datasets.FashionMNIST(\n",
    "    root=\"./project/data\",\n",
    "    train=False,\n",
    "    download=True,\n",
    "    transform=ToTensor(),\n",
    ")"
   ]
  },
  {
   "cell_type": "markdown",
   "metadata": {},
   "source": [
    "We pass the ``Dataset`` as an argument to ``DataLoader``. This wraps an iterable over our dataset, and supports\n",
    "automatic batching, sampling, shuffling and multiprocess data loading. Here we define a batch size of 64, i.e. each element\n",
    "in the dataloader iterable will return a batch of 64 features and labels.\n",
    "\n"
   ]
  },
  {
   "cell_type": "code",
   "execution_count": 4,
   "metadata": {},
   "outputs": [
    {
     "name": "stdout",
     "output_type": "stream",
     "text": [
      "Shape of X [N, C, H, W]: torch.Size([64, 1, 28, 28])\n",
      "Shape of y: torch.Size([64]) torch.int64\n"
     ]
    }
   ],
   "source": [
    "batch_size = 64\n",
    "\n",
    "# Create data loaders.\n",
    "train_dataloader = DataLoader(training_data, batch_size=batch_size)\n",
    "test_dataloader = DataLoader(test_data, batch_size=batch_size)\n",
    "\n",
    "for X, y in test_dataloader:\n",
    "    print(f\"Shape of X [N, C, H, W]: {X.shape}\")\n",
    "    print(f\"Shape of y: {y.shape} {y.dtype}\")\n",
    "    break"
   ]
  },
  {
   "cell_type": "markdown",
   "metadata": {},
   "source": [
    "Read more about `loading data in PyTorch <data_tutorial.html>`_.\n",
    "\n",
    "\n"
   ]
  },
  {
   "cell_type": "markdown",
   "metadata": {},
   "source": [
    "--------------\n",
    "\n",
    "\n"
   ]
  },
  {
   "cell_type": "markdown",
   "metadata": {},
   "source": [
    "Creating Models\n",
    "------------------\n",
    "To define a neural network in PyTorch, we create a class that inherits\n",
    "from `nn.Module <https://pytorch.org/docs/stable/generated/torch.nn.Module.html>`_. We define the layers of the network\n",
    "in the ``__init__`` function and specify how data will pass through the network in the ``forward`` function. To accelerate\n",
    "operations in the neural network, we move it to the GPU if available.\n",
    "\n"
   ]
  },
  {
   "cell_type": "code",
   "execution_count": 12,
   "metadata": {},
   "outputs": [
    {
     "name": "stdout",
     "output_type": "stream",
     "text": [
      "Using cpu device\n",
      "NeuralNetwork(\n",
      "  (flatten): Flatten(start_dim=1, end_dim=-1)\n",
      "  (linear_relu_stack): Sequential(\n",
      "    (0): Linear(in_features=784, out_features=512, bias=True)\n",
      "    (1): ReLU()\n",
      "    (2): Linear(in_features=512, out_features=512, bias=True)\n",
      "    (3): ReLU()\n",
      "    (4): Linear(in_features=512, out_features=10, bias=True)\n",
      "  )\n",
      ")\n"
     ]
    }
   ],
   "source": [
    "# Get cpu or gpu device for training.\n",
    "device = \"cuda\" if torch.cuda.is_available() else \"cpu\"\n",
    "print(f\"Using {device} device\")\n",
    "\n",
    "# Define model\n",
    "class NeuralNetwork(nn.Module):\n",
    "    def __init__(self):\n",
    "        super(NeuralNetwork, self).__init__()\n",
    "        self.flatten = nn.Flatten()\n",
    "        self.linear_relu_stack = nn.Sequential(\n",
    "            nn.Linear(28*28, 512),\n",
    "            nn.ReLU(),\n",
    "            nn.Linear(512, 512),\n",
    "            nn.ReLU(),\n",
    "            nn.Linear(512, 10)\n",
    "        )\n",
    "\n",
    "    def forward(self, x):\n",
    "        x = self.flatten(x)\n",
    "        logits = self.linear_relu_stack(x)\n",
    "        return logits\n",
    "\n",
    "model = NeuralNetwork().to(device)\n",
    "print(model)"
   ]
  },
  {
   "cell_type": "markdown",
   "metadata": {},
   "source": [
    "Read more about `building neural networks in PyTorch <buildmodel_tutorial.html>`_.\n",
    "\n",
    "\n"
   ]
  },
  {
   "cell_type": "markdown",
   "metadata": {},
   "source": [
    "--------------\n",
    "\n",
    "\n"
   ]
  },
  {
   "cell_type": "markdown",
   "metadata": {},
   "source": [
    "Optimizing the Model Parameters\n",
    "----------------------------------------\n",
    "To train a model, we need a `loss function <https://pytorch.org/docs/stable/nn.html#loss-functions>`_\n",
    "and an `optimizer <https://pytorch.org/docs/stable/optim.html>`_.\n",
    "\n"
   ]
  },
  {
   "cell_type": "code",
   "execution_count": 6,
   "metadata": {},
   "outputs": [],
   "source": [
    "loss_fn = nn.CrossEntropyLoss()\n",
    "optimizer = torch.optim.SGD(model.parameters(), lr=1e-3)"
   ]
  },
  {
   "cell_type": "markdown",
   "metadata": {},
   "source": [
    "In a single training loop, the model makes predictions on the training dataset (fed to it in batches), and\n",
    "backpropagates the prediction error to adjust the model's parameters.\n",
    "\n"
   ]
  },
  {
   "cell_type": "code",
   "execution_count": 7,
   "metadata": {},
   "outputs": [],
   "source": [
    "def train(dataloader, model, loss_fn, optimizer):\n",
    "    size = len(dataloader.dataset)\n",
    "    model.train()\n",
    "    for batch, (X, y) in enumerate(dataloader):\n",
    "        X, y = X.to(device), y.to(device)\n",
    "\n",
    "        # Compute prediction error\n",
    "        pred = model(X)\n",
    "        loss = loss_fn(pred, y)\n",
    "\n",
    "        # Backpropagation\n",
    "        optimizer.zero_grad()\n",
    "        loss.backward()\n",
    "        optimizer.step()\n",
    "\n",
    "        if batch % 100 == 0:\n",
    "            loss, current = loss.item(), batch * len(X)\n",
    "            print(f\"loss: {loss:>7f}  [{current:>5d}/{size:>5d}]\")"
   ]
  },
  {
   "cell_type": "markdown",
   "metadata": {},
   "source": [
    "We also check the model's performance against the test dataset to ensure it is learning.\n",
    "\n"
   ]
  },
  {
   "cell_type": "code",
   "execution_count": 8,
   "metadata": {},
   "outputs": [],
   "source": [
    "def test(dataloader, model, loss_fn):\n",
    "    size = len(dataloader.dataset)\n",
    "    num_batches = len(dataloader)\n",
    "    model.eval()\n",
    "    test_loss, correct = 0, 0\n",
    "    with torch.no_grad():\n",
    "        for X, y in dataloader:\n",
    "            X, y = X.to(device), y.to(device)\n",
    "            pred = model(X)\n",
    "            test_loss += loss_fn(pred, y).item()\n",
    "            correct += (pred.argmax(1) == y).type(torch.float).sum().item()\n",
    "    test_loss /= num_batches\n",
    "    correct /= size\n",
    "    print(f\"Test Error: \\n Accuracy: {(100*correct):>0.1f}%, Avg loss: {test_loss:>8f} \\n\")"
   ]
  },
  {
   "cell_type": "markdown",
   "metadata": {},
   "source": [
    "The training process is conducted over several iterations (*epochs*). During each epoch, the model learns\n",
    "parameters to make better predictions. We print the model's accuracy and loss at each epoch; we'd like to see the\n",
    "accuracy increase and the loss decrease with every epoch.\n",
    "\n"
   ]
  },
  {
   "cell_type": "code",
   "execution_count": 9,
   "metadata": {},
   "outputs": [
    {
     "name": "stdout",
     "output_type": "stream",
     "text": [
      "Epoch 1\n",
      "-------------------------------\n",
      "loss: 2.299248  [    0/60000]\n",
      "loss: 2.285987  [ 6400/60000]\n",
      "loss: 2.268440  [12800/60000]\n",
      "loss: 2.267603  [19200/60000]\n",
      "loss: 2.261528  [25600/60000]\n",
      "loss: 2.229390  [32000/60000]\n",
      "loss: 2.233319  [38400/60000]\n",
      "loss: 2.198051  [44800/60000]\n",
      "loss: 2.186997  [51200/60000]\n",
      "loss: 2.170012  [57600/60000]\n",
      "Test Error: \n",
      " Accuracy: 46.3%, Avg loss: 2.155484 \n",
      "\n",
      "Epoch 2\n",
      "-------------------------------\n",
      "loss: 2.161245  [    0/60000]\n",
      "loss: 2.144951  [ 6400/60000]\n",
      "loss: 2.090120  [12800/60000]\n",
      "loss: 2.112195  [19200/60000]\n",
      "loss: 2.064187  [25600/60000]\n",
      "loss: 2.010152  [32000/60000]\n",
      "loss: 2.031390  [38400/60000]\n",
      "loss: 1.952070  [44800/60000]\n",
      "loss: 1.954746  [51200/60000]\n",
      "loss: 1.886197  [57600/60000]\n",
      "Test Error: \n",
      " Accuracy: 59.3%, Avg loss: 1.881937 \n",
      "\n",
      "Epoch 3\n",
      "-------------------------------\n",
      "loss: 1.913361  [    0/60000]\n",
      "loss: 1.871713  [ 6400/60000]\n",
      "loss: 1.766361  [12800/60000]\n",
      "loss: 1.807992  [19200/60000]\n",
      "loss: 1.690934  [25600/60000]\n",
      "loss: 1.662497  [32000/60000]\n",
      "loss: 1.671249  [38400/60000]\n",
      "loss: 1.578722  [44800/60000]\n",
      "loss: 1.604187  [51200/60000]\n",
      "loss: 1.494632  [57600/60000]\n",
      "Test Error: \n",
      " Accuracy: 62.3%, Avg loss: 1.517548 \n",
      "\n",
      "Epoch 4\n",
      "-------------------------------\n",
      "loss: 1.588673  [    0/60000]\n",
      "loss: 1.540981  [ 6400/60000]\n",
      "loss: 1.407541  [12800/60000]\n",
      "loss: 1.472048  [19200/60000]\n",
      "loss: 1.347077  [25600/60000]\n",
      "loss: 1.366575  [32000/60000]\n",
      "loss: 1.366451  [38400/60000]\n",
      "loss: 1.296439  [44800/60000]\n",
      "loss: 1.332795  [51200/60000]\n",
      "loss: 1.229661  [57600/60000]\n",
      "Test Error: \n",
      " Accuracy: 63.3%, Avg loss: 1.257104 \n",
      "\n",
      "Epoch 5\n",
      "-------------------------------\n",
      "loss: 1.341678  [    0/60000]\n",
      "loss: 1.310061  [ 6400/60000]\n",
      "loss: 1.156263  [12800/60000]\n",
      "loss: 1.254131  [19200/60000]\n",
      "loss: 1.123039  [25600/60000]\n",
      "loss: 1.168571  [32000/60000]\n",
      "loss: 1.179287  [38400/60000]\n",
      "loss: 1.117010  [44800/60000]\n",
      "loss: 1.159843  [51200/60000]\n",
      "loss: 1.073690  [57600/60000]\n",
      "Test Error: \n",
      " Accuracy: 64.7%, Avg loss: 1.093427 \n",
      "\n",
      "Epoch 6\n",
      "-------------------------------\n",
      "loss: 1.173497  [    0/60000]\n",
      "loss: 1.162821  [ 6400/60000]\n",
      "loss: 0.988519  [12800/60000]\n",
      "loss: 1.117745  [19200/60000]\n",
      "loss: 0.983380  [25600/60000]\n",
      "loss: 1.033729  [32000/60000]\n",
      "loss: 1.063726  [38400/60000]\n",
      "loss: 1.001322  [44800/60000]\n",
      "loss: 1.045362  [51200/60000]\n",
      "loss: 0.976603  [57600/60000]\n",
      "Test Error: \n",
      " Accuracy: 65.9%, Avg loss: 0.987118 \n",
      "\n",
      "Epoch 7\n",
      "-------------------------------\n",
      "loss: 1.054998  [    0/60000]\n",
      "loss: 1.066802  [ 6400/60000]\n",
      "loss: 0.872661  [12800/60000]\n",
      "loss: 1.026772  [19200/60000]\n",
      "loss: 0.894716  [25600/60000]\n",
      "loss: 0.937850  [32000/60000]\n",
      "loss: 0.988351  [38400/60000]\n",
      "loss: 0.924623  [44800/60000]\n",
      "loss: 0.965053  [51200/60000]\n",
      "loss: 0.911811  [57600/60000]\n",
      "Test Error: \n",
      " Accuracy: 67.4%, Avg loss: 0.913952 \n",
      "\n",
      "Epoch 8\n",
      "-------------------------------\n",
      "loss: 0.966786  [    0/60000]\n",
      "loss: 0.999141  [ 6400/60000]\n",
      "loss: 0.788806  [12800/60000]\n",
      "loss: 0.961723  [19200/60000]\n",
      "loss: 0.834891  [25600/60000]\n",
      "loss: 0.867059  [32000/60000]\n",
      "loss: 0.935431  [38400/60000]\n",
      "loss: 0.872045  [44800/60000]\n",
      "loss: 0.906477  [51200/60000]\n",
      "loss: 0.864854  [57600/60000]\n",
      "Test Error: \n",
      " Accuracy: 68.5%, Avg loss: 0.860919 \n",
      "\n",
      "Epoch 9\n",
      "-------------------------------\n",
      "loss: 0.898676  [    0/60000]\n",
      "loss: 0.947844  [ 6400/60000]\n",
      "loss: 0.725801  [12800/60000]\n",
      "loss: 0.912787  [19200/60000]\n",
      "loss: 0.792258  [25600/60000]\n",
      "loss: 0.813359  [32000/60000]\n",
      "loss: 0.895401  [38400/60000]\n",
      "loss: 0.834726  [44800/60000]\n",
      "loss: 0.862884  [51200/60000]\n",
      "loss: 0.828407  [57600/60000]\n",
      "Test Error: \n",
      " Accuracy: 69.8%, Avg loss: 0.820630 \n",
      "\n",
      "Done!\n"
     ]
    }
   ],
   "source": [
    "epochs = 9\n",
    "for t in range(epochs):\n",
    "    print(f\"Epoch {t+1}\\n-------------------------------\")\n",
    "    train(train_dataloader, model, loss_fn, optimizer)\n",
    "    test(test_dataloader, model, loss_fn)\n",
    "print(\"Done!\")"
   ]
  },
  {
   "cell_type": "markdown",
   "metadata": {},
   "source": [
    "Read more about `Training your model <optimization_tutorial.html>`_.\n",
    "\n",
    "\n"
   ]
  },
  {
   "cell_type": "markdown",
   "metadata": {},
   "source": [
    "--------------\n",
    "\n",
    "\n"
   ]
  },
  {
   "cell_type": "markdown",
   "metadata": {},
   "source": [
    "Saving Models\n",
    "-------------\n",
    "A common way to save a model is to serialize the internal state dictionary (containing the model parameters).\n",
    "\n"
   ]
  },
  {
   "cell_type": "code",
   "execution_count": 10,
   "metadata": {},
   "outputs": [
    {
     "name": "stdout",
     "output_type": "stream",
     "text": [
      "Saved PyTorch Model State to model.pth\n"
     ]
    }
   ],
   "source": [
    "torch.save(model.state_dict(), \"model.pth\")\n",
    "print(\"Saved PyTorch Model State to model.pth\")"
   ]
  },
  {
   "cell_type": "markdown",
   "metadata": {},
   "source": [
    "Loading Models\n",
    "----------------------------\n",
    "\n",
    "The process for loading a model includes re-creating the model structure and loading\n",
    "the state dictionary into it.\n",
    "\n"
   ]
  },
  {
   "cell_type": "code",
   "execution_count": 13,
   "metadata": {},
   "outputs": [
    {
     "data": {
      "text/plain": [
       "<All keys matched successfully>"
      ]
     },
     "execution_count": 13,
     "metadata": {},
     "output_type": "execute_result"
    }
   ],
   "source": [
    "model = NeuralNetwork()\n",
    "model.load_state_dict(torch.load(\"model.pth\"))"
   ]
  },
  {
   "cell_type": "markdown",
   "metadata": {},
   "source": [
    "This model can now be used to make predictions.\n",
    "\n"
   ]
  },
  {
   "cell_type": "code",
   "execution_count": 16,
   "metadata": {},
   "outputs": [
    {
     "name": "stdout",
     "output_type": "stream",
     "text": [
      "Predicted: \"Ankle boot\", Actual: \"Ankle boot\"\n"
     ]
    }
   ],
   "source": [
    "classes = [\n",
    "    \"T-shirt/top\",\n",
    "    \"Trouser\",\n",
    "    \"Pullover\",\n",
    "    \"Dress\",\n",
    "    \"Coat\",\n",
    "    \"Sandal\",\n",
    "    \"Shirt\",\n",
    "    \"Sneaker\",\n",
    "    \"Bag\",\n",
    "    \"Ankle boot\",\n",
    "]\n",
    "\n",
    "model.eval()\n",
    "x, y = test_data[0][0], test_data[0][1]\n",
    "with torch.no_grad():\n",
    "    pred = model(x)\n",
    "    predicted, actual = classes[pred[0].argmax(0)], classes[y]\n",
    "    print(f'Predicted: \"{predicted}\", Actual: \"{actual}\"')"
   ]
  },
  {
   "cell_type": "markdown",
   "metadata": {},
   "source": [
    "Read more about `Saving & Loading your model <saveloadrun_tutorial.html>`_.\n",
    "\n",
    "\n"
   ]
  },
  {
   "cell_type": "markdown",
   "metadata": {},
   "source": [
    "# Exporting model\n",
    "### by Neu.ro MLOps\n",
    "\n",
    "[ONNX](https://onnx.ai/) - open standard to represent the machine learning models.\n",
    "This format is supported by the majority of inference engines.\n",
    "\n",
    "Later, we will deploy the model into Triton, so let's install ONNX dependencies and save the model in ONNX format. "
   ]
  },
  {
   "cell_type": "code",
   "execution_count": 13,
   "metadata": {},
   "outputs": [
    {
     "name": "stdout",
     "output_type": "stream",
     "text": [
      "Requirement already satisfied: onnx in /usr/local/lib/python3.9/dist-packages (1.12.0)\n",
      "Requirement already satisfied: onnxruntime in /usr/local/lib/python3.9/dist-packages (1.12.1)\n",
      "Requirement already satisfied: typing-extensions>=3.6.2.1 in /usr/local/lib/python3.9/dist-packages (from onnx) (4.2.0)\n",
      "Requirement already satisfied: numpy>=1.16.6 in /usr/local/lib/python3.9/dist-packages (from onnx) (1.22.3)\n",
      "Requirement already satisfied: protobuf<=3.20.1,>=3.12.2 in /usr/local/lib/python3.9/dist-packages (from onnx) (3.20.1)\n",
      "Requirement already satisfied: coloredlogs in /usr/local/lib/python3.9/dist-packages (from onnxruntime) (15.0.1)\n",
      "Requirement already satisfied: flatbuffers in /usr/local/lib/python3.9/dist-packages (from onnxruntime) (1.12)\n",
      "Requirement already satisfied: sympy in /usr/local/lib/python3.9/dist-packages (from onnxruntime) (1.10.1)\n",
      "Requirement already satisfied: packaging in /usr/local/lib/python3.9/dist-packages (from onnxruntime) (21.3)\n",
      "Requirement already satisfied: humanfriendly>=9.1 in /usr/local/lib/python3.9/dist-packages (from coloredlogs->onnxruntime) (10.0)\n",
      "Requirement already satisfied: pyparsing!=3.0.5,>=2.0.2 in /usr/local/lib/python3.9/dist-packages (from packaging->onnxruntime) (3.0.9)\n",
      "Requirement already satisfied: mpmath>=0.19 in /usr/local/lib/python3.9/dist-packages (from sympy->onnxruntime) (1.2.1)\n"
     ]
    }
   ],
   "source": [
    "!sudo pip3 install onnx onnxruntime"
   ]
  },
  {
   "cell_type": "code",
   "execution_count": 14,
   "metadata": {
    "scrolled": true
   },
   "outputs": [],
   "source": [
    "onnix_model = torch.onnx.export(model.eval(),              # model being run\n",
    "                  x,                         # model input (or a tuple for multiple inputs)\n",
    "                  \"model.onnx\",   # where to save the model (can be a file or file-like object)\n",
    "                  export_params=True,        # store the trained parameter weights inside the model file\n",
    "                  opset_version=10,          # the ONNX version to export the model to\n",
    "                  do_constant_folding=True,  # whether to execute constant folding for optimization\n",
    "                  input_names = ['input'],   # the model's input names\n",
    "                  output_names = ['output'], # the model's output names\n",
    "                  dynamic_axes={'input' : {0 : 'batch_size'},    # variable length axes\n",
    "                                'output' : {0 : 'batch_size'}})"
   ]
  },
  {
   "cell_type": "code",
   "execution_count": 17,
   "metadata": {},
   "outputs": [],
   "source": [
    "import onnx\n",
    "import mlflow"
   ]
  },
  {
   "cell_type": "code",
   "execution_count": 18,
   "metadata": {},
   "outputs": [],
   "source": [
    "model = onnx.load(\"model.onnx\")\n",
    "onnx.checker.check_model(model)"
   ]
  },
  {
   "cell_type": "markdown",
   "metadata": {},
   "source": [
    "# Local inference\n",
    "Let's verify the model infer data properly"
   ]
  },
  {
   "cell_type": "code",
   "execution_count": 23,
   "metadata": {},
   "outputs": [],
   "source": [
    "import onnxruntime as ort\n",
    "ort_session = ort.InferenceSession(\"model.onnx\")\n",
    "\n",
    "onnx_outputs = ort_session.run(\n",
    "    None,\n",
    "    {\"input\": x.numpy()},\n",
    ")"
   ]
  },
  {
   "cell_type": "code",
   "execution_count": 44,
   "metadata": {},
   "outputs": [
    {
     "name": "stdout",
     "output_type": "stream",
     "text": [
      "Model outputs: [array([[-3.3324342, -4.699691 , -1.9844813, -2.676971 , -1.4370284,\n",
      "         4.440385 , -2.0312605,  4.229054 ,  2.4164305,  4.86053  ]],\n",
      "      dtype=float32)]\n",
      "Predicted: \"Ankle boot\", Actual: \"Ankle boot\"\n"
     ]
    }
   ],
   "source": [
    "print(f\"Model outputs: {onnx_outputs}\")\n",
    "\n",
    "predicted, actual = classes[onnx_outputs[0][0].argmax(0)], classes[y]\n",
    "print(f'Predicted: \"{predicted}\", Actual: \"{actual}\"')"
   ]
  },
  {
   "cell_type": "markdown",
   "metadata": {},
   "source": [
    "## Model repository\n",
    "\n",
    "If you are reading this article, it should be clear as a sky that model lineage is _one of_ crutial notions in ML products which will help you to understand where did the results come from.\n",
    "\n",
    "Hence this is only a brief tutorial with focus to deployment, we simply save the model as an artifact into running MLFlow server.\n",
    "\n",
    "In production workloads you should also consider code and data lineage."
   ]
  },
  {
   "cell_type": "code",
   "execution_count": 19,
   "metadata": {},
   "outputs": [
    {
     "name": "stderr",
     "output_type": "stream",
     "text": [
      "/usr/local/lib/python3.9/dist-packages/_distutils_hack/__init__.py:33: UserWarning: Setuptools is replacing distutils.\n",
      "  warnings.warn(\"Setuptools is replacing distutils.\")\n",
      "Registered model 'demo_model' already exists. Creating a new version of this model...\n",
      "2022/08/11 06:11:27 INFO mlflow.tracking._model_registry.client: Waiting up to 300 seconds for model version to finish creation.                     Model name: demo_model, version 3\n",
      "Created version '3' of model 'demo_model'.\n"
     ]
    }
   ],
   "source": [
    "model_name = \"demo_model\"\n",
    "mlflow.set_tracking_uri('sqlite:///mymlflow.db')\n",
    "with mlflow.start_run() as run:\n",
    "    mlflow.onnx.log_model(model, \"model\", registered_model_name=model_name)"
   ]
  },
  {
   "cell_type": "code",
   "execution_count": 41,
   "metadata": {},
   "outputs": [
    {
     "name": "stdout",
     "output_type": "stream",
     "text": [
      "\n",
      "**** mlflow.onnx.load_model\n",
      "\n",
      "NodeArg(name='input', type='tensor(float)', shape=['batch_size', 28, 28]) input <class 'torch.Tensor'> <class 'numpy.ndarray'>\n"
     ]
    }
   ],
   "source": [
    "# load model from MLflow Model Registry\n",
    "import onnx\n",
    "import mlflow\n",
    "import numpy as np\n",
    "import onnxruntime \n",
    "\n",
    "model_path = \"models:/demo_model/None\"\n",
    "mlflow.set_tracking_uri('sqlite:///mymlflow.db')\n",
    "\n",
    "print(\"\\n**** mlflow.onnx.load_model\\n\")\n",
    "model = mlflow.onnx.load_model(model_path)\n",
    "session = onnxruntime.InferenceSession(model.SerializeToString())\n",
    "input_name = session.get_inputs()[0].name\n",
    "\n",
    "print( session.get_inputs()[0], input_name, type(x), type(x.numpy()))"
   ]
  },
  {
   "cell_type": "code",
   "execution_count": 49,
   "metadata": {
    "scrolled": true
   },
   "outputs": [
    {
     "name": "stdout",
     "output_type": "stream",
     "text": [
      "model.type: <class 'onnx.onnx_ml_pb2.ModelProto'>\n",
      "Model outputs: [array([[-3.3324342, -4.699691 , -1.9844813, -2.676971 , -1.4370284,\n",
      "         4.440385 , -2.0312605,  4.229054 ,  2.4164305,  4.86053  ]],\n",
      "      dtype=float32)]\n",
      "9\n",
      "Predicted: \"Ankle boot\", Actual: \"Ankle boot\"\n"
     ]
    }
   ],
   "source": [
    "print(\"model.type:\", type(model))\n",
    "predictions = session.run(None, {'input': x.numpy()})\n",
    "print(f\"Model outputs: {predictions}\")\n",
    "\n",
    "print(predictions[0][0].argmax(0))\n",
    "predicted, actual = classes[predictions[0][0].argmax(0)], classes[y]\n",
    "print(f'Predicted: \"{predicted}\", Actual: \"{actual}\"')"
   ]
  },
  {
   "cell_type": "markdown",
   "metadata": {},
   "source": [
    "# Triton inference"
   ]
  },
  {
   "cell_type": "markdown",
   "metadata": {},
   "source": [
    "### Deploying to Triton\n",
    "Install MLFlow plugin to deploy the model into Triton inference server and use this plugin to deploy the model.\n",
    "\n",
    "Here we also install Triton client to perform test inference call. "
   ]
  },
  {
   "cell_type": "code",
   "execution_count": 1,
   "metadata": {
    "scrolled": true
   },
   "outputs": [
    {
     "name": "stdout",
     "output_type": "stream",
     "text": [
      "Requirement already satisfied: setuptools in /usr/local/lib/python3.9/dist-packages (63.4.3)\n",
      "Requirement already satisfied: tritonclient[http] in /usr/local/lib/python3.9/dist-packages (2.24.0)\n",
      "Requirement already satisfied: numpy>=1.19.1 in /usr/local/lib/python3.9/dist-packages (from tritonclient[http]) (1.22.3)\n",
      "Requirement already satisfied: python-rapidjson>=0.9.1 in /usr/local/lib/python3.9/dist-packages (from tritonclient[http]) (1.8)\n",
      "Requirement already satisfied: geventhttpclient>=1.4.4 in /usr/local/lib/python3.9/dist-packages (from tritonclient[http]) (2.0)\n",
      "Requirement already satisfied: aiohttp>=3.8.1 in /usr/local/lib/python3.9/dist-packages (from tritonclient[http]) (3.8.1)\n",
      "Requirement already satisfied: aiosignal>=1.1.2 in /usr/local/lib/python3.9/dist-packages (from aiohttp>=3.8.1->tritonclient[http]) (1.2.0)\n",
      "Requirement already satisfied: multidict<7.0,>=4.5 in /usr/local/lib/python3.9/dist-packages (from aiohttp>=3.8.1->tritonclient[http]) (6.0.2)\n",
      "Requirement already satisfied: frozenlist>=1.1.1 in /usr/local/lib/python3.9/dist-packages (from aiohttp>=3.8.1->tritonclient[http]) (1.3.1)\n",
      "Requirement already satisfied: charset-normalizer<3.0,>=2.0 in /usr/local/lib/python3.9/dist-packages (from aiohttp>=3.8.1->tritonclient[http]) (2.1.0)\n",
      "Requirement already satisfied: yarl<2.0,>=1.0 in /usr/local/lib/python3.9/dist-packages (from aiohttp>=3.8.1->tritonclient[http]) (1.8.1)\n",
      "Requirement already satisfied: attrs>=17.3.0 in /usr/lib/python3/dist-packages (from aiohttp>=3.8.1->tritonclient[http]) (20.3.0)\n",
      "Requirement already satisfied: async-timeout<5.0,>=4.0.0a3 in /usr/local/lib/python3.9/dist-packages (from aiohttp>=3.8.1->tritonclient[http]) (4.0.2)\n",
      "Requirement already satisfied: certifi in /usr/lib/python3/dist-packages (from geventhttpclient>=1.4.4->tritonclient[http]) (2020.6.20)\n",
      "Requirement already satisfied: gevent>=0.13 in /usr/local/lib/python3.9/dist-packages (from geventhttpclient>=1.4.4->tritonclient[http]) (21.12.0)\n",
      "Requirement already satisfied: six in /usr/local/lib/python3.9/dist-packages (from geventhttpclient>=1.4.4->tritonclient[http]) (1.16.0)\n",
      "Requirement already satisfied: brotli in /usr/local/lib/python3.9/dist-packages (from geventhttpclient>=1.4.4->tritonclient[http]) (1.0.9)\n",
      "Requirement already satisfied: greenlet<2.0,>=1.1.0 in /usr/local/lib/python3.9/dist-packages (from gevent>=0.13->geventhttpclient>=1.4.4->tritonclient[http]) (1.1.2)\n",
      "Requirement already satisfied: zope.event in /usr/local/lib/python3.9/dist-packages (from gevent>=0.13->geventhttpclient>=1.4.4->tritonclient[http]) (4.5.0)\n",
      "Requirement already satisfied: zope.interface in /usr/lib/python3/dist-packages (from gevent>=0.13->geventhttpclient>=1.4.4->tritonclient[http]) (5.2.0)\n",
      "Requirement already satisfied: setuptools in /usr/local/lib/python3.9/dist-packages (from gevent>=0.13->geventhttpclient>=1.4.4->tritonclient[http]) (63.4.3)\n",
      "Requirement already satisfied: idna>=2.0 in /usr/lib/python3/dist-packages (from yarl<2.0,>=1.0->aiohttp>=3.8.1->tritonclient[http]) (2.10)\n",
      "Cloning into '/tmp/triton_server'...\n",
      "remote: Enumerating objects: 1751, done.\u001b[K\n",
      "remote: Counting objects: 100% (1751/1751), done.\u001b[K\n",
      "remote: Compressing objects: 100% (1142/1142), done.\u001b[K\n",
      "remote: Total 1751 (delta 704), reused 1177 (delta 419), pack-reused 0\u001b[K\n",
      "Receiving objects: 100% (1751/1751), 7.75 MiB | 20.04 MiB/s, done.\n",
      "Resolving deltas: 100% (704/704), done.\n",
      "Traceback (most recent call last):\n",
      "  File \"setup.py\", line 26, in <module>\n",
      "    from setuptools import setup, find_packages\n",
      "ImportError: No module named setuptools\n"
     ]
    }
   ],
   "source": [
    "!sudo pip3 install tritonclient[http]\n",
    "!git clone https://github.com/triton-inference-server/server --depth=1 /tmp/triton_server\n",
    "!cd /tmp/triton_server/deploy/mlflow-triton-plugin/ && sudo python setup.py install"
   ]
  },
  {
   "cell_type": "code",
   "execution_count": null,
   "metadata": {},
   "outputs": [],
   "source": [
    "version = mlflow.tracking.MlflowClient().get_registered_model(model_name).latest_versions[0].version\n",
    "\n",
    "!mlflow deployments create -t triton --flavor onnx --name $model_name -m models:/$model_name/$version"
   ]
  },
  {
   "cell_type": "markdown",
   "metadata": {},
   "source": [
    "## Test inference call\n",
    "\n",
    "Usually, one will need a Triton inference client to communicate with the models deployed into Triton server."
   ]
  },
  {
   "cell_type": "code",
   "execution_count": 3,
   "metadata": {},
   "outputs": [],
   "source": [
    "import os\n",
    "import tritonclient.http as httpclient\n",
    "from tritonclient.utils import InferenceServerException\n",
    "from tritonclient.utils import triton_to_np_dtype"
   ]
  },
  {
   "cell_type": "code",
   "execution_count": null,
   "metadata": {},
   "outputs": [],
   "source": [
    "url = os.environ[\"TRITON_URL\"].strip(\"http(s)://\")\n",
    "triton_client = httpclient.InferenceServerClient(url=url)\n",
    "deployed_model_meta = triton_client.get_model_metadata(model_name)"
   ]
  },
  {
   "cell_type": "code",
   "execution_count": null,
   "metadata": {},
   "outputs": [],
   "source": [
    "model_input = httpclient.InferInput(\n",
    "    deployed_model_meta[\"inputs\"][0][\"name\"],\n",
    "    x.shape,\n",
    "    deployed_model_meta[\"inputs\"][0][\"datatype\"],\n",
    ")\n",
    "model_input.set_data_from_numpy(x.numpy(), binary_data=True)\n",
    "\n",
    "\n",
    "model_output = httpclient.InferRequestedOutput(\n",
    "    deployed_model_meta[\"outputs\"][0][\"name\"],\n",
    "    binary_data=True\n",
    ")\n",
    "\n",
    "request = triton_client.async_infer(model_name=model_name, inputs=[model_input])\n",
    "result = request.get_result()\n",
    "triton_outputs = result.as_numpy(deployed_model_meta[\"outputs\"][0][\"name\"])"
   ]
  },
  {
   "cell_type": "code",
   "execution_count": null,
   "metadata": {},
   "outputs": [],
   "source": [
    "print(triton_outputs)\n",
    "predicted, actual = classes[triton_outputs[0].argmax(0)], classes[y]\n",
    "print(f'Predicted: \"{predicted}\", Actual: \"{actual}\"')"
   ]
  },
  {
   "cell_type": "markdown",
   "metadata": {},
   "source": [
    "### Optionaly, compare the output of two deployed models"
   ]
  },
  {
   "cell_type": "code",
   "execution_count": null,
   "metadata": {},
   "outputs": [],
   "source": [
    "import numpy as np\n",
    "print(np.allclose(onnx_outputs, triton_outputs, rtol=10e-6, atol=10e-7))"
   ]
  }
 ],
 "metadata": {
  "kernelspec": {
   "display_name": "Python 3 (ipykernel)",
   "language": "python",
   "name": "python3"
  },
  "language_info": {
   "codemirror_mode": {
    "name": "ipython",
    "version": 3
   },
   "file_extension": ".py",
   "mimetype": "text/x-python",
   "name": "python",
   "nbconvert_exporter": "python",
   "pygments_lexer": "ipython3",
   "version": "3.9.5"
  }
 },
 "nbformat": 4,
 "nbformat_minor": 1
}
