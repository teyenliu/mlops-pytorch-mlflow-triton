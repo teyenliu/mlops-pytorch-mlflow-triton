{
 "cells": [
  {
   "cell_type": "code",
   "execution_count": 1,
   "id": "79f1ab08",
   "metadata": {},
   "outputs": [],
   "source": [
    "import os\n",
    "import tempfile\n",
    "\n",
    "import mlflow\n",
    "import yaml"
   ]
  },
  {
   "cell_type": "code",
   "execution_count": 2,
   "id": "8e26eb5b",
   "metadata": {},
   "outputs": [],
   "source": [
    "def simple_tracking(x=1, y=2):\n",
    "    with mlflow.start_run():\n",
    "        mlflow.log_param(\"x_inital\", x)\n",
    "        mlflow.log_param(\"y\", y)\n",
    "\n",
    "        progress = {}\n",
    "        for i in range(100):\n",
    "            progress[f\"step_{i:05d}\"] = f\"{x} + {y}\"\n",
    "            x += y\n",
    "            mlflow.log_metric(\"x\", x)\n",
    "\n",
    "        with tempfile.TemporaryDirectory() as t_path:\n",
    "            with open(os.path.join(t_path, \"progress.yaml\"), \"w\") as y_file:\n",
    "                yaml.dump(progress, y_file)\n",
    "            mlflow.log_artifact(os.path.join(t_path, \"progress.yaml\"))"
   ]
  },
  {
   "cell_type": "code",
   "execution_count": null,
   "id": "c9285fa5",
   "metadata": {},
   "outputs": [],
   "source": [
    "simple_tracking(1, 2)\n",
    "simple_tracking(3, 4)"
   ]
  }
 ],
 "metadata": {
  "kernelspec": {
   "display_name": "Python 3 (ipykernel)",
   "language": "python",
   "name": "python3"
  },
  "language_info": {
   "codemirror_mode": {
    "name": "ipython",
    "version": 3
   },
   "file_extension": ".py",
   "mimetype": "text/x-python",
   "name": "python",
   "nbconvert_exporter": "python",
   "pygments_lexer": "ipython3",
   "version": "3.9.5"
  }
 },
 "nbformat": 4,
 "nbformat_minor": 5
}
